{
 "cells": [
  {
   "cell_type": "code",
   "execution_count": null,
   "id": "66a69d95-0995-40f8-8a71-96674fcac934",
   "metadata": {},
   "outputs": [],
   "source": [
    "import os\n",
    "import pandas as pd\n",
    "import matplotlib.pyplot as plt\n",
    "import seaborn as sns\n",
    "import numpy as np"
   ]
  },
  {
   "cell_type": "code",
   "execution_count": null,
   "id": "f1cea657-3b52-46a7-b860-60d3af09157b",
   "metadata": {},
   "outputs": [],
   "source": [
    "# Read the CSV file into a pandas DataFrame\n",
    "data = pd.read_csv(\"ann_pc_change.csv\", delimiter=',', index_col=0)"
   ]
  },
  {
   "cell_type": "code",
   "execution_count": null,
   "id": "728237bf-3747-41bb-b942-14f1a4fdae31",
   "metadata": {},
   "outputs": [],
   "source": [
    "# Remove commas and convert to float\n",
    "data = data.replace(',', '', regex=True).astype(float)"
   ]
  },
  {
   "cell_type": "code",
   "execution_count": null,
   "id": "af83765c-a85c-4048-9dea-761e9b794e96",
   "metadata": {},
   "outputs": [],
   "source": [
    "# Define colors for the heatmap\n",
    "cmap = sns.diverging_palette(10, 240, n=10, as_cmap=True)"
   ]
  },
  {
   "cell_type": "code",
   "execution_count": null,
   "id": "1605fc4d-b964-44c9-9c76-8955cd3555c8",
   "metadata": {},
   "outputs": [],
   "source": [
    "# Replace empty cells with NaN and convert all values to float\n",
    "data = data.replace(r'^\\s*$', np.nan, regex=True).astype(float)\n",
    "\n",
    "# Define the color for empty cells (light grey)\n",
    "empty_color = (0.9, 0.9, 0.9)  # RGB values for light grey\n",
    "\n",
    "# Fill missing values with NaN and define the color map with grey for NaN values\n",
    "cmap.set_bad(empty_color)"
   ]
  },
  {
   "cell_type": "code",
   "execution_count": null,
   "id": "4f536795-03ec-46b4-8bef-88da87f2f9c7",
   "metadata": {},
   "outputs": [],
   "source": [
    "# Create the directory to store images if it does not exist\n",
    "if not os.path.exists(\"images\"):\n",
    "    os.makedirs(\"images\")"
   ]
  },
  {
   "cell_type": "code",
   "execution_count": null,
   "id": "01a2ba1f-97af-44ee-96c5-fb2b2f2be78f",
   "metadata": {},
   "outputs": [],
   "source": [
    "# Define block size\n",
    "block_size = 20\n",
    "\n",
    "# Get number of rows and columns in the data\n",
    "num_rows, num_cols = data.shape\n",
    "\n",
    "# Get the row and column labels\n",
    "row_labels = data.index.tolist()\n",
    "col_labels = data.columns.tolist()\n",
    "\n",
    "# Iterate over each block and create a heatmap\n",
    "for row_start in range(0, num_rows, block_size):\n",
    "    for col_start in range(0, num_cols, block_size):\n",
    "        # Determine start and end countries\n",
    "        start_row = row_labels[row_start]\n",
    "        end_row = row_labels[min(row_start + block_size - 1, num_rows - 1)]\n",
    "        start_col = col_labels[col_start]\n",
    "        end_col = col_labels[min(col_start + block_size - 1, num_cols - 1)]\n",
    "        \n",
    "        # Extract block of data\n",
    "        block_data = data.iloc[row_start:row_start+block_size, col_start:col_start+block_size]\n",
    "        \n",
    "        # Create the heatmap\n",
    "        plt.figure(figsize=(16, 10))\n",
    "        ax = sns.heatmap(\n",
    "            block_data, cmap=cmap, center=block_data.stack().mean(), annot=True, fmt=\".1f\", \n",
    "            linewidths=0.5, linecolor='grey', cbar_kws={'label': 'Ann. Sectoral % Change (2014-2000)'}\n",
    "        )\n",
    "\n",
    "        # Change the label on the right side of the graph\n",
    "        ax.set_ylabel('Import (horizontal) & Export (vertical)', rotation=90, va='center')\n",
    "\n",
    "        plot_name = f'(Exporters[{start_row} - {end_row}] - Importers[{start_col} - {end_col}])'\n",
    "        # Add title\n",
    "        plt.title(f'GVA Heatmap Block {plot_name}')\n",
    "\n",
    "        plt.savefig(f'images/Heatmap_Block_{plot_name}.png', bbox_inches='tight')\n",
    "        \n",
    "        # Show plot\n",
    "        plt.show()"
   ]
  },
  {
   "cell_type": "code",
   "execution_count": null,
   "id": "a50cd502-e70e-4520-8478-6229dc16ecb2",
   "metadata": {},
   "outputs": [],
   "source": []
  }
 ],
 "metadata": {
  "kernelspec": {
   "display_name": "Python 3 (ipykernel)",
   "language": "python",
   "name": "python3"
  },
  "language_info": {
   "codemirror_mode": {
    "name": "ipython",
    "version": 3
   },
   "file_extension": ".py",
   "mimetype": "text/x-python",
   "name": "python",
   "nbconvert_exporter": "python",
   "pygments_lexer": "ipython3",
   "version": "3.8.18"
  }
 },
 "nbformat": 4,
 "nbformat_minor": 5
}
